{
 "cells": [
  {
   "cell_type": "code",
   "execution_count": 1,
   "metadata": {
    "_cell_guid": "b1076dfc-b9ad-4769-8c92-a6c4dae69d19",
    "_uuid": "8f2839f25d086af736a60e9eeb907d3b93b6e0e5",
    "execution": {
     "iopub.execute_input": "2024-11-15T11:45:46.878916Z",
     "iopub.status.busy": "2024-11-15T11:45:46.878481Z",
     "iopub.status.idle": "2024-11-15T11:45:46.887007Z",
     "shell.execute_reply": "2024-11-15T11:45:46.885290Z",
     "shell.execute_reply.started": "2024-11-15T11:45:46.878873Z"
    },
    "trusted": true
   },
   "outputs": [],
   "source": [
    "import pandas as pd\n",
    "import os\n",
    "import numpy as np\n",
    "import soundfile as sf\n",
    "from IPython.display import clear_output\n",
    "import pickle\n",
    "import librosa\n",
    "from sklearn.preprocessing import StandardScaler\n",
    "from keras.utils import to_categorical\n",
    "import tensorflow as tf\n",
    "from tensorflow.keras import models, layers\n",
    "from tensorflow.keras.callbacks import ReduceLROnPlateau, EarlyStopping\n",
    "from tensorflow.keras.models import Model\n",
    "from sklearn.discriminant_analysis import LinearDiscriminantAnalysis as LDA\n",
    "from tensorflow.keras.models import load_model\n",
    "from sklearn.metrics.pairwise import cosine_similarity\n"
   ]
  },
  {
   "cell_type": "code",
   "execution_count": null,
   "metadata": {
    "execution": {
     "iopub.execute_input": "2024-11-15T11:36:56.205328Z",
     "iopub.status.busy": "2024-11-15T11:36:56.204790Z",
     "iopub.status.idle": "2024-11-15T11:36:57.569148Z",
     "shell.execute_reply": "2024-11-15T11:36:57.568104Z",
     "shell.execute_reply.started": "2024-11-15T11:36:56.205279Z"
    },
    "trusted": true
   },
   "outputs": [],
   "source": [
    "# Wczytuje i łączę wszystkie dane - liczyłem embeddingi na 5 różnych kontakch kaggle.\n",
    "\n",
    "embedding_all_people = []\n",
    "embedding_all_people_postprocess = []\n",
    "\n",
    "for i in range(0,5):\n",
    "    path = '/kaggle/input/cnn-mel-embedding-test-no-postpocess/embedding_all_people_'  \n",
    "\n",
    "    one_dataset = path + str(i) + '.pkl'\n",
    "    \n",
    "    with open(one_dataset, 'rb') as file:\n",
    "        data = pickle.load(file)\n",
    "    embedding_all_people.extend(data)\n",
    "\n",
    "    \n",
    "    path = '/kaggle/input/cnn-mel-embedding-test-postpocess/embedding_all_people_postprocessed_'  \n",
    "\n",
    "    one_dataset = path + str(i) + '.pkl'\n",
    "    \n",
    "    with open(one_dataset, 'rb') as file:\n",
    "        data = pickle.load(file)\n",
    "    embedding_all_people_postprocess.extend(data)"
   ]
  },
  {
   "cell_type": "code",
   "execution_count": null,
   "metadata": {
    "execution": {
     "iopub.execute_input": "2024-11-15T11:41:32.742103Z",
     "iopub.status.busy": "2024-11-15T11:41:32.740964Z",
     "iopub.status.idle": "2024-11-15T11:41:32.755076Z",
     "shell.execute_reply": "2024-11-15T11:41:32.753950Z",
     "shell.execute_reply.started": "2024-11-15T11:41:32.742055Z"
    },
    "trusted": true
   },
   "outputs": [],
   "source": [
    "def create_enrollment_test(embedding_all_people):\n",
    "    \n",
    "\n",
    "    n = len(embedding_all_people[0][0][0])\n",
    "    \n",
    "    #Embedding enrollment ma być stworzony z 40 s nagrania\n",
    "\n",
    "    emrollment_embedding_all_people = []  # Lista do przechowywania embeddingów enrollment dla wszystkich osób\n",
    "    test_embedding_all_people = []  # Lista do przechowywania embeddingów testowych dla wszystkich osób\n",
    "    \n",
    "    # Pętla przetwarzająca embeddingi dla każdej osoby w embedding_all_people\n",
    "    for i in range(0, len(embedding_all_people)):\n",
    "        \n",
    "        # Inicjalizacja zerowych embeddingów dla enrollment i testowych (o długości n) - nie mogę zadeklarować jednej wartości ponieważ \n",
    "        # w wyniku LDA mam 99 zmiennych repreneztujących embeddingi a bez LDA jest ich 128\n",
    "        enrollment_embedding = np.zeros(n)\n",
    "        test_embedding = np.zeros(n)\n",
    "        test_embedding_one_person = []  # Lista do przechowywania testowych embeddingów dla jednej osoby\n",
    "    \n",
    "        # Zaokrąglenie liczby fragmentów danej osoby do najbliższej wielokrotności 10 - pozbycie się \"ogonka\"\n",
    "        rounded_len = np.floor_divide(len(embedding_all_people[i]), 10) * 10\n",
    "        \n",
    "        for j in range(0, rounded_len):\n",
    "            \n",
    "            # Dodawanie embeddingów do enrollment dla pierwszych 40 fragmentów - enrollment ma być zbudowany z \n",
    "            # 40 s nagrania\n",
    "            if j < 40:\n",
    "                enrollment_embedding += embedding_all_people[i][j][0]\n",
    "            \n",
    "            # Po co dziesiątym fragmencie: obliczenie średniego embeddingu testowego i resetowanie `test_embedding`\n",
    "            # embedding test ma mieć długośc 10 s\n",
    "            elif (j + 1) % 10 == 0:\n",
    "                test_embedding = test_embedding / 10\n",
    "                test_embedding_one_person.append(test_embedding)  # Dodanie średniego embeddingu do listy\n",
    "                test_embedding = np.zeros(n)  # Reset embeddingu testowego do kolejnych obliczeń\n",
    "            \n",
    "            # Dodawanie embeddingów do testowego dla kolejnych fragmentów\n",
    "            else:\n",
    "                test_embedding += embedding_all_people[i][j][0]\n",
    "        \n",
    "        # Obliczenie średniego embeddingu enrollmentowego (średnia z 40 fragmentów)\n",
    "        enrollment_embedding = enrollment_embedding / 40\n",
    "    \n",
    "        # Dodanie średniego embeddingu enrollment i listy testowych embeddingów do głównych list\n",
    "        emrollment_embedding_all_people.append(enrollment_embedding)\n",
    "        test_embedding_all_people.append(test_embedding_one_person)\n",
    "    \n",
    "        # Wyświetlanie postępu przetwarzania dla każdej osoby\n",
    "        print((i + 1) / len(embedding_all_people))\n",
    "        clear_output(wait=True)\n",
    "\n",
    "    return emrollment_embedding_all_people, test_embedding_all_people"
   ]
  },
  {
   "cell_type": "code",
   "execution_count": 19,
   "metadata": {
    "execution": {
     "iopub.execute_input": "2024-11-15T11:42:34.896424Z",
     "iopub.status.busy": "2024-11-15T11:42:34.895975Z",
     "iopub.status.idle": "2024-11-15T11:42:35.266107Z",
     "shell.execute_reply": "2024-11-15T11:42:35.264884Z",
     "shell.execute_reply.started": "2024-11-15T11:42:34.896384Z"
    },
    "trusted": true
   },
   "outputs": [
    {
     "name": "stdout",
     "output_type": "stream",
     "text": [
      "1.0\n"
     ]
    }
   ],
   "source": [
    "enroll, test = create_enrollment_test(embedding_all_people)"
   ]
  },
  {
   "cell_type": "code",
   "execution_count": 20,
   "metadata": {
    "execution": {
     "iopub.execute_input": "2024-11-15T11:42:36.344514Z",
     "iopub.status.busy": "2024-11-15T11:42:36.344065Z",
     "iopub.status.idle": "2024-11-15T11:42:36.623660Z",
     "shell.execute_reply": "2024-11-15T11:42:36.622586Z",
     "shell.execute_reply.started": "2024-11-15T11:42:36.344472Z"
    },
    "trusted": true
   },
   "outputs": [
    {
     "name": "stdout",
     "output_type": "stream",
     "text": [
      "1.0\n"
     ]
    }
   ],
   "source": [
    "enroll_postprocess, test_postprocess = create_enrollment_test(embedding_all_people_postprocess)"
   ]
  },
  {
   "cell_type": "code",
   "execution_count": null,
   "metadata": {
    "execution": {
     "iopub.execute_input": "2024-11-15T11:45:50.646988Z",
     "iopub.status.busy": "2024-11-15T11:45:50.646294Z",
     "iopub.status.idle": "2024-11-15T11:45:50.657540Z",
     "shell.execute_reply": "2024-11-15T11:45:50.656482Z",
     "shell.execute_reply.started": "2024-11-15T11:45:50.646941Z"
    },
    "trusted": true
   },
   "outputs": [],
   "source": [
    "# Funkcja do liczenia cross-checkingu, zwaraca ramkę danych które zawiera info o tym kto jest właścicielem enrollment, test, czy jest to próba włamania i podobieństwo kosinusowe\n",
    "\n",
    "def cross_checking(emrollment_embedding_all_people, test_embedding_all_people):\n",
    "    \n",
    "    data_rows = []\n",
    "    \n",
    "    for i in range(0, len(emrollment_embedding_all_people)):\n",
    "        embedding_enrollment = emrollment_embedding_all_people[i].reshape(1, -1)\n",
    "    \n",
    "        for j in range(0, len(test_embedding_all_people)):\n",
    "            # Wczytanie embeddingów testowych dla danej osoby\n",
    "            one_person_list = np.array(test_embedding_all_people[j])\n",
    "            random_numbers = np.random.uniform(0, 1, len(one_person_list)) > 0.5\n",
    "            one_person_list = one_person_list[random_numbers]\n",
    "    \n",
    "            for h in range(0, len(one_person_list)):\n",
    "                # Wczytanie embeddingu testowego\n",
    "                embedding_eval = one_person_list[h].reshape(1, -1)\n",
    "                # Obliczenie podobieństwa kosinusowego\n",
    "                cos_sim = cosine_similarity(embedding_enrollment, embedding_eval)[0][0]\n",
    "                # Zapisanie wyników\n",
    "                data_rows.append([i, j, i == j, cos_sim])\n",
    "    \n",
    "        clear_output(wait=True)\n",
    "        print(f\"Processing ID: {i}\")\n",
    "    \n",
    "    # Tworzenie DataFrame z listy wyników\n",
    "    long_data_frame = pd.DataFrame(data_rows, columns=['ID_enrollment', 'ID_test', 'genuine', 'score'])\n",
    "    return long_data_frame"
   ]
  },
  {
   "cell_type": "code",
   "execution_count": 26,
   "metadata": {
    "execution": {
     "iopub.execute_input": "2024-11-15T11:45:52.634430Z",
     "iopub.status.busy": "2024-11-15T11:45:52.633979Z",
     "iopub.status.idle": "2024-11-15T11:46:47.209088Z",
     "shell.execute_reply": "2024-11-15T11:46:47.208033Z",
     "shell.execute_reply.started": "2024-11-15T11:45:52.634387Z"
    },
    "trusted": true
   },
   "outputs": [
    {
     "name": "stdout",
     "output_type": "stream",
     "text": [
      "Processing ID: 49\n"
     ]
    }
   ],
   "source": [
    "long_data_frame = cross_checking(enroll, test)"
   ]
  },
  {
   "cell_type": "code",
   "execution_count": 27,
   "metadata": {
    "execution": {
     "iopub.execute_input": "2024-11-15T11:46:47.211129Z",
     "iopub.status.busy": "2024-11-15T11:46:47.210767Z",
     "iopub.status.idle": "2024-11-15T11:47:41.092190Z",
     "shell.execute_reply": "2024-11-15T11:47:41.090900Z",
     "shell.execute_reply.started": "2024-11-15T11:46:47.211092Z"
    },
    "trusted": true
   },
   "outputs": [
    {
     "name": "stdout",
     "output_type": "stream",
     "text": [
      "Processing ID: 49\n"
     ]
    }
   ],
   "source": [
    "long_data_frame_postprocess = cross_checking(enroll_postprocess, test_postprocess)"
   ]
  },
  {
   "cell_type": "code",
   "execution_count": 29,
   "metadata": {
    "execution": {
     "iopub.execute_input": "2024-11-15T11:58:34.300225Z",
     "iopub.status.busy": "2024-11-15T11:58:34.299720Z",
     "iopub.status.idle": "2024-11-15T11:58:35.755930Z",
     "shell.execute_reply": "2024-11-15T11:58:35.754770Z",
     "shell.execute_reply.started": "2024-11-15T11:58:34.300181Z"
    },
    "trusted": true
   },
   "outputs": [],
   "source": [
    "long_data_frame.to_csv('long_data_frame.csv', index=False)\n",
    "long_data_frame_postprocess.to_csv('long_data_frame_postprocess.csv', index=False)"
   ]
  }
 ],
 "metadata": {
  "kaggle": {
   "accelerator": "none",
   "dataSources": [
    {
     "datasetId": 6092503,
     "sourceId": 9914662,
     "sourceType": "datasetVersion"
    },
    {
     "datasetId": 6092549,
     "sourceId": 9914716,
     "sourceType": "datasetVersion"
    }
   ],
   "dockerImageVersionId": 30786,
   "isGpuEnabled": false,
   "isInternetEnabled": true,
   "language": "python",
   "sourceType": "notebook"
  },
  "kernelspec": {
   "display_name": "base",
   "language": "python",
   "name": "python3"
  },
  "language_info": {
   "codemirror_mode": {
    "name": "ipython",
    "version": 3
   },
   "file_extension": ".py",
   "mimetype": "text/x-python",
   "name": "python",
   "nbconvert_exporter": "python",
   "pygments_lexer": "ipython3",
   "version": "3.11.7"
  }
 },
 "nbformat": 4,
 "nbformat_minor": 4
}
