{
 "cells": [
  {
   "cell_type": "code",
   "execution_count": 1,
   "metadata": {
    "execution": {
     "iopub.execute_input": "2024-11-14T20:33:09.839721Z",
     "iopub.status.busy": "2024-11-14T20:33:09.839226Z",
     "iopub.status.idle": "2024-11-14T20:33:09.847663Z",
     "shell.execute_reply": "2024-11-14T20:33:09.846447Z",
     "shell.execute_reply.started": "2024-11-14T20:33:09.839678Z"
    },
    "trusted": true
   },
   "outputs": [],
   "source": [
    "import pandas as pd\n",
    "import os\n",
    "import numpy as np\n",
    "import soundfile as sf\n",
    "from IPython.display import clear_output\n",
    "import pickle\n",
    "import librosa\n",
    "from sklearn.preprocessing import StandardScaler\n",
    "from keras.utils import to_categorical\n",
    "import tensorflow as tf\n",
    "from tensorflow.keras import models, layers\n",
    "from tensorflow.keras.callbacks import ReduceLROnPlateau, EarlyStopping\n",
    "from tensorflow.keras.models import Model\n",
    "from sklearn.discriminant_analysis import LinearDiscriminantAnalysis as LDA"
   ]
  },
  {
   "cell_type": "code",
   "execution_count": null,
   "metadata": {
    "execution": {
     "iopub.execute_input": "2024-11-14T20:33:11.810279Z",
     "iopub.status.busy": "2024-11-14T20:33:11.809523Z",
     "iopub.status.idle": "2024-11-14T20:33:13.053938Z",
     "shell.execute_reply": "2024-11-14T20:33:13.052767Z",
     "shell.execute_reply.started": "2024-11-14T20:33:11.810231Z"
    },
    "trusted": true
   },
   "outputs": [],
   "source": [
    "# Wczytuje embeddingi nagrań uczących model\n",
    "\n",
    "path = '/kaggle/input/mel-train-embedding/X_train_embedding'\n",
    "\n",
    "X_train_embedding = []\n",
    "\n",
    "for i in range (0, 5):\n",
    "    one_embedding_set = path + '_' + str(i) + '.pkl'\n",
    "    \n",
    "    with open(one_embedding_set, 'rb') as file:\n",
    "        embedding_set = pickle.load(file)\n",
    "\n",
    "    X_train_embedding.extend(embedding_set)"
   ]
  },
  {
   "cell_type": "code",
   "execution_count": null,
   "metadata": {
    "execution": {
     "iopub.execute_input": "2024-11-14T20:33:14.689549Z",
     "iopub.status.busy": "2024-11-14T20:33:14.689136Z",
     "iopub.status.idle": "2024-11-14T20:33:15.232278Z",
     "shell.execute_reply": "2024-11-14T20:33:15.231021Z",
     "shell.execute_reply.started": "2024-11-14T20:33:14.689511Z"
    },
    "trusted": true
   },
   "outputs": [],
   "source": [
    "# Wczytuję targety aby stworzyć LDA\n",
    "y_train = np.load('/kaggle/input/data-to-train-mel-spectrogram/y_train.npy')"
   ]
  },
  {
   "cell_type": "code",
   "execution_count": 19,
   "metadata": {
    "_cell_guid": "b1076dfc-b9ad-4769-8c92-a6c4dae69d19",
    "_uuid": "8f2839f25d086af736a60e9eeb907d3b93b6e0e5",
    "execution": {
     "iopub.execute_input": "2024-11-14T20:33:32.490045Z",
     "iopub.status.busy": "2024-11-14T20:33:32.489589Z",
     "iopub.status.idle": "2024-11-14T20:33:38.684695Z",
     "shell.execute_reply": "2024-11-14T20:33:38.683568Z",
     "shell.execute_reply.started": "2024-11-14T20:33:32.489998Z"
    },
    "trusted": true
   },
   "outputs": [],
   "source": [
    "# Zamiana etykiet one-hot encoded na numery klas\n",
    "y_train_classes = np.argmax(y_train, axis=1)\n",
    "\n",
    "# Przekształcenie listy embeddingów w macierz NumPy, gdzie każdy wiersz to embedding\n",
    "X_train_embedding = np.vstack(X_train_embedding)\n",
    "\n",
    "# Skalowanie danych do rozkładu o średniej 0 i odchyleniu standardowym 1\n",
    "scaler = StandardScaler()\n",
    "scaler.fit(X_train_embedding)\n",
    "X_train_embedding = scaler.transform(X_train_embedding)\n",
    "\n",
    "# Dopasowanie LDA (Linear Discriminant Analysis) na przeskalowanych embeddingach\n",
    "lda = LDA()\n",
    "lda.fit(X=X_train_embedding, y=y_train_classes);"
   ]
  },
  {
   "cell_type": "code",
   "execution_count": 20,
   "metadata": {
    "execution": {
     "iopub.execute_input": "2024-11-14T20:33:45.965456Z",
     "iopub.status.busy": "2024-11-14T20:33:45.964307Z",
     "iopub.status.idle": "2024-11-14T20:33:45.973434Z",
     "shell.execute_reply": "2024-11-14T20:33:45.972153Z",
     "shell.execute_reply.started": "2024-11-14T20:33:45.965400Z"
    },
    "trusted": true
   },
   "outputs": [],
   "source": [
    "with open('scaler_after_embedding.pkl', 'wb') as file:\n",
    "    pickle.dump(scaler, file)\n",
    "\n",
    "with open('lda.pkl', 'wb') as file:\n",
    "    pickle.dump(lda, file)"
   ]
  }
 ],
 "metadata": {
  "kaggle": {
   "accelerator": "none",
   "dataSources": [
    {
     "datasetId": 6070260,
     "sourceId": 9887913,
     "sourceType": "datasetVersion"
    },
    {
     "datasetId": 6088470,
     "sourceId": 9909420,
     "sourceType": "datasetVersion"
    }
   ],
   "dockerImageVersionId": 30786,
   "isGpuEnabled": false,
   "isInternetEnabled": true,
   "language": "python",
   "sourceType": "notebook"
  },
  "kernelspec": {
   "display_name": "base",
   "language": "python",
   "name": "python3"
  },
  "language_info": {
   "codemirror_mode": {
    "name": "ipython",
    "version": 3
   },
   "file_extension": ".py",
   "mimetype": "text/x-python",
   "name": "python",
   "nbconvert_exporter": "python",
   "pygments_lexer": "ipython3",
   "version": "3.11.7"
  }
 },
 "nbformat": 4,
 "nbformat_minor": 4
}
