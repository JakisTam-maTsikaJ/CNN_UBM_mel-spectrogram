{
 "cells": [
  {
   "cell_type": "code",
   "execution_count": 1,
   "metadata": {
    "_cell_guid": "b1076dfc-b9ad-4769-8c92-a6c4dae69d19",
    "_uuid": "8f2839f25d086af736a60e9eeb907d3b93b6e0e5",
    "execution": {
     "iopub.execute_input": "2024-11-14T16:00:41.830325Z",
     "iopub.status.busy": "2024-11-14T16:00:41.829826Z",
     "iopub.status.idle": "2024-11-14T16:00:41.839945Z",
     "shell.execute_reply": "2024-11-14T16:00:41.838056Z",
     "shell.execute_reply.started": "2024-11-14T16:00:41.830279Z"
    },
    "trusted": true
   },
   "outputs": [],
   "source": [
    "import pandas as pd\n",
    "import os\n",
    "import numpy as np\n",
    "import soundfile as sf\n",
    "from IPython.display import clear_output\n",
    "import pickle\n",
    "import librosa\n",
    "from sklearn.preprocessing import StandardScaler\n",
    "from keras.utils import to_categorical\n",
    "import tensorflow as tf\n",
    "from tensorflow.keras import models, layers\n",
    "from tensorflow.keras.callbacks import ReduceLROnPlateau, EarlyStopping\n",
    "from tensorflow.keras.models import Model\n",
    "from sklearn.discriminant_analysis import LinearDiscriminantAnalysis as LDA"
   ]
  },
  {
   "cell_type": "code",
   "execution_count": null,
   "metadata": {
    "execution": {
     "iopub.execute_input": "2024-11-14T16:03:34.095383Z",
     "iopub.status.busy": "2024-11-14T16:03:34.094900Z",
     "iopub.status.idle": "2024-11-14T16:03:36.617056Z",
     "shell.execute_reply": "2024-11-14T16:03:36.615442Z",
     "shell.execute_reply.started": "2024-11-14T16:03:34.095337Z"
    },
    "trusted": true
   },
   "outputs": [],
   "source": [
    "# Wczytuję model\n",
    "model = tf.keras.models.load_model('/kaggle/input/cnn_mel/keras/default/1/model.h5')\n",
    "\n",
    "# Wczytuję dane\n",
    "X_train = np.load('/kaggle/input/data-to-train-mel-spectrogram/X_train.npy')\n",
    "y_train = np.load('/kaggle/input/data-to-train-mel-spectrogram/y_train.npy')\n",
    "\n",
    "\n",
    "# Dzielę dane na 5 fragmentów, wykorzstuję 5 kont kaggle do obliczeń aby przyspieszcyć proces\n",
    "x = len(X_train)\n",
    "part_size = x // 5\n",
    "\n",
    "# Podział X_train na 5 części\n",
    "X_train = [\n",
    "    X_train[:part_size],                  # Pierwsze 20%\n",
    "    X_train[part_size:2*part_size],       # Drugie 20%\n",
    "    X_train[2*part_size:3*part_size],     # Trzecie 20%\n",
    "    X_train[3*part_size:4*part_size],     # Czwarte 20%\n",
    "    X_train[4*part_size:]                 # Ostatnie 20%\n",
    "]\n",
    "\n",
    "# Podział y_train na 5 części\n",
    "y_train = [\n",
    "    y_train[:part_size],                  # Pierwsze 20%\n",
    "    y_train[part_size:2*part_size],       # Drugie 20%\n",
    "    y_train[2*part_size:3*part_size],     # Trzecie 20%\n",
    "    y_train[3*part_size:4*part_size],     # Czwarte 20%\n",
    "    y_train[4*part_size:]                 # Ostatnie 20%\n",
    "]"
   ]
  },
  {
   "cell_type": "code",
   "execution_count": null,
   "metadata": {
    "execution": {
     "iopub.execute_input": "2024-11-14T16:03:39.060616Z",
     "iopub.status.busy": "2024-11-14T16:03:39.060026Z",
     "iopub.status.idle": "2024-11-14T16:03:39.069227Z",
     "shell.execute_reply": "2024-11-14T16:03:39.067598Z",
     "shell.execute_reply.started": "2024-11-14T16:03:39.060559Z"
    },
    "trusted": true
   },
   "outputs": [],
   "source": [
    "# Funkcja służy do stworzenia embeddingu nagrania, pobiera po prostu wartości jakie są w wartowie bottleneck podczas dokonywania klasyfikacji danego nagrania\n",
    "def calcuate_embedding(one_audio, model):\n",
    "\n",
    "    intermediate_layer_model = Model(inputs=model.inputs,\n",
    "                                 outputs=model.get_layer('bottleneck').output)\n",
    "    intermediate_output = intermediate_layer_model.predict(one_audio[np.newaxis, ...])\n",
    "    \n",
    "    return intermediate_output"
   ]
  },
  {
   "cell_type": "code",
   "execution_count": null,
   "metadata": {
    "execution": {
     "iopub.execute_input": "2024-11-14T16:03:40.717651Z",
     "iopub.status.busy": "2024-11-14T16:03:40.716068Z",
     "iopub.status.idle": "2024-11-14T16:03:57.766381Z",
     "shell.execute_reply": "2024-11-14T16:03:57.764367Z",
     "shell.execute_reply.started": "2024-11-14T16:03:40.717563Z"
    },
    "trusted": true
   },
   "outputs": [],
   "source": [
    "X_train = X_train[0]\n",
    "y_train = y_train[0]\n",
    "\n",
    "# Liczymy embeddingi nagrań treningowych UBM aby stworzyć LDA na ich podstawie\n",
    "X_train_embedding = []\n",
    "\n",
    "# Iteracja po każdym elemencie w X_train\n",
    "for i in range(0, len(X_train)):\n",
    "    # Obliczenie embeddingu dla danego nagrania w X_train przy użyciu modelu\n",
    "    train_embedding = calcuate_embedding(X_train[i], model)[0]\n",
    "\n",
    "    # Dodanie embeddingu do listy X_train_embedding\n",
    "    X_train_embedding.append(train_embedding)\n",
    "\n",
    "    # Wyczyszczenie poprzedniego outputu i wyświetlenie postępu przetwarzania\n",
    "    clear_output(wait=True)\n",
    "    print(i/len(X_train))  # Wyświetla proporcjonalny postęp jako wartość od 0 do 1\n",
    "\n",
    "# Zapisanie listy embeddingów X_train_embedding do pliku w formacie pickle\n",
    "with open(\"X_train_embedding.pkl\", \"wb\") as file:\n",
    "    pickle.dump(X_train_embedding, file)"
   ]
  }
 ],
 "metadata": {
  "kaggle": {
   "accelerator": "none",
   "dataSources": [
    {
     "datasetId": 6070260,
     "sourceId": 9887913,
     "sourceType": "datasetVersion"
    },
    {
     "isSourceIdPinned": true,
     "modelId": 163820,
     "modelInstanceId": 141198,
     "sourceId": 165940,
     "sourceType": "modelInstanceVersion"
    }
   ],
   "dockerImageVersionId": 30786,
   "isGpuEnabled": false,
   "isInternetEnabled": true,
   "language": "python",
   "sourceType": "notebook"
  },
  "kernelspec": {
   "display_name": "base",
   "language": "python",
   "name": "python3"
  },
  "language_info": {
   "codemirror_mode": {
    "name": "ipython",
    "version": 3
   },
   "file_extension": ".py",
   "mimetype": "text/x-python",
   "name": "python",
   "nbconvert_exporter": "python",
   "pygments_lexer": "ipython3",
   "version": "3.11.7"
  }
 },
 "nbformat": 4,
 "nbformat_minor": 4
}
