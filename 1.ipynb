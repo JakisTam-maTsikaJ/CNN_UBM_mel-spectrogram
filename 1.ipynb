{
 "cells": [
  {
   "cell_type": "code",
   "execution_count": 1,
   "metadata": {
    "execution": {
     "iopub.execute_input": "2024-11-14T10:01:51.281854Z",
     "iopub.status.busy": "2024-11-14T10:01:51.281231Z",
     "iopub.status.idle": "2024-11-14T10:02:13.909745Z",
     "shell.execute_reply": "2024-11-14T10:02:13.908227Z",
     "shell.execute_reply.started": "2024-11-14T10:01:51.281789Z"
    },
    "trusted": true
   },
   "outputs": [],
   "source": [
    "import pandas as pd\n",
    "import os\n",
    "import numpy as np\n",
    "import soundfile as sf\n",
    "from IPython.display import clear_output\n",
    "import pickle\n",
    "import librosa\n",
    "from sklearn.preprocessing import StandardScaler\n",
    "from keras.utils import to_categorical\n",
    "import tensorflow as tf\n",
    "from tensorflow.keras import models, layers\n",
    "from tensorflow.keras.callbacks import ReduceLROnPlateau, EarlyStopping\n",
    "from tensorflow.keras.models import Model"
   ]
  },
  {
   "cell_type": "markdown",
   "metadata": {},
   "source": [
    "# Przygotowanie danych do modelu UBM, jego trening oraz liczenie LDA."
   ]
  },
  {
   "cell_type": "code",
   "execution_count": null,
   "metadata": {
    "execution": {
     "iopub.execute_input": "2024-11-12T19:01:59.300929Z",
     "iopub.status.busy": "2024-11-12T19:01:59.300250Z",
     "iopub.status.idle": "2024-11-12T19:01:59.370957Z",
     "shell.execute_reply": "2024-11-12T19:01:59.369907Z",
     "shell.execute_reply.started": "2024-11-12T19:01:59.300885Z"
    },
    "trusted": true
   },
   "outputs": [],
   "source": [
    "df = pd.read_csv('/kaggle/input/all-people-df/df')\n",
    "\n",
    "# Ścieżka do folderu, w którym znajdują się katalogi z nagraniami osób.\n",
    "file_path = '/kaggle/input/audio-to-train-model/train-clean-100'\n",
    "\n",
    "# Wyciągam wszystkie nazwy podfolderów z powyższej ścieżki (są to ID nagranych osób).\n",
    "subfolders = [f.name for f in os.scandir(file_path) if f.is_dir()]\n",
    "\n",
    "# Sortuję ID nagranych osób (najpierw muszę zamienić ID na liczbę).\n",
    "subfolders = sorted([int(item) for item in subfolders])\n",
    "subfolders = np.array(subfolders)\n",
    "\n",
    "df = df.loc[np.isin(np.array(df['ID']), subfolders)]\n",
    "\n",
    "# Tworzę oddzielne ramki dla kobiet i mężczyzn.\n",
    "df_woman = df[df['SEX'] == ' F '].reset_index(drop=True)\n",
    "df_man = df[df['SEX'] == ' M '].reset_index(drop=True)"
   ]
  },
  {
   "cell_type": "code",
   "execution_count": null,
   "metadata": {
    "execution": {
     "iopub.execute_input": "2024-11-12T19:01:59.372944Z",
     "iopub.status.busy": "2024-11-12T19:01:59.372553Z",
     "iopub.status.idle": "2024-11-12T19:04:42.426431Z",
     "shell.execute_reply": "2024-11-12T19:04:42.425398Z",
     "shell.execute_reply.started": "2024-11-12T19:01:59.372905Z"
    },
    "trusted": true
   },
   "outputs": [
    {
     "name": "stdout",
     "output_type": "stream",
     "text": [
      "8975\n"
     ]
    }
   ],
   "source": [
    "folders_path = '/kaggle/input/audio-to-train-model/train-clean-100'\n",
    "\n",
    "# Wyciągam wszystkie podfoldery (ID osób) z głównego folderu z nagraniami.\n",
    "subfolders = [f.name for f in os.scandir(folders_path) if f.is_dir()]\n",
    "# Sortuję ID osób i zamieniam je z powrotem na stringi (ID muszą być w formie tekstowej).\n",
    "subfolders = sorted([int(item) for item in subfolders])\n",
    "subfolders = [str(item) for item in subfolders]\n",
    "\n",
    "# Tworzę pełne ścieżki do folderów dla każdego ID.\n",
    "paths_with_ID = [folders_path + '/' + subfolder for subfolder in subfolders]\n",
    "\n",
    "# Tworzę dwie ramki danych do przechowywania ID i sumarycznej długości nagrań dla kobiet i mężczyzn.\n",
    "data_frame_for_duration_woman = pd.DataFrame(columns=['ID', 'duration'])\n",
    "data_frame_for_duration_man = pd.DataFrame(columns=['ID', 'duration'])\n",
    "\n",
    "# Pętla przez wszystkie osoby, aby obliczyć sumaryczną długość nagrań.\n",
    "for path_with_ID in paths_with_ID:\n",
    "\n",
    "    # Zbieram ścieżki do folderów wewnątrz folderu danej osoby (podfoldery).\n",
    "    paths_inside_ID = [f.name for f in os.scandir(path_with_ID) if f.is_dir()]\n",
    "\n",
    "    # Tworzę pełne ścieżki do plików nagrań (plików .flac) dla każdego folderu wewnątrz ID.\n",
    "    full_paths_to_files = [path_with_ID + '/' + path_inside_ID for path_inside_ID in paths_inside_ID]\n",
    "\n",
    "    # Zbieram wszystkie pliki audio dla danej osoby.\n",
    "    all_files_for_ID = []\n",
    "    for full_path_to_files in full_paths_to_files:\n",
    "        files = [f.name for f in os.scandir(full_path_to_files) if f.is_file() and f.name.endswith('.flac')]\n",
    "        files = [full_path_to_files + '/' + file for file in files]\n",
    "        all_files_for_ID = all_files_for_ID + files\n",
    "\n",
    "    # Obliczam łączną długość nagrań danej osoby.\n",
    "    duration_in_seconds = 0\n",
    "    for file_for_ID in all_files_for_ID:\n",
    "        # Otwieram plik audio za pomocą SoundFile i obliczam długość nagrania na podstawie liczby próbek i częstotliwości próbkowania.\n",
    "        with sf.SoundFile(file_for_ID) as f:\n",
    "            frames = len(f)  # Liczba próbek (frames)\n",
    "            sample_rate = f.samplerate  # Częstotliwość próbkowania\n",
    "        duration = frames / sample_rate  # Długość nagrania w sekundach\n",
    "        duration_in_seconds = duration_in_seconds + duration  # Sumowanie długości wszystkich nagrań\n",
    "\n",
    "    # Wyciągam ID osoby z pełnej ścieżki.\n",
    "    ID = path_with_ID.split('/')[-1]\n",
    "    # Tworzę nowy rekord z ID i sumaryczną długością nagrań.\n",
    "    new_record = [ID, duration_in_seconds]\n",
    "    \n",
    "    # Sprawdzam, czy ID osoby należy do kobiet i dodaję dane do odpowiedniej ramki danych.\n",
    "    if np.isin(ID, df_woman['ID']):\n",
    "        data_frame_for_duration_woman.loc[len(data_frame_for_duration_woman)] = new_record\n",
    "    else:\n",
    "        data_frame_for_duration_man.loc[len(data_frame_for_duration_man)] = new_record\n",
    "\n",
    "    # Wyświetlam postęp pętli.\n",
    "    print(ID)\n",
    "    clear_output(wait=True)\n",
    "\n",
    "# Sortuję ramki danych według długości nagrań w kolejności malejącej.\n",
    "data_frame_for_duration_woman = data_frame_for_duration_woman.sort_values(by='duration', ascending=False)\n",
    "data_frame_for_duration_man = data_frame_for_duration_man.sort_values(by='duration', ascending=False)\n",
    "\n",
    "data_frame_for_duration_woman.to_csv('data_frame_for_duration_woman.csv', index=False)\n",
    "data_frame_for_duration_man.to_csv('data_frame_for_duration_man.csv', index=False)\n",
    "\n",
    "# Wybieram 50 kobiet i 50 mężczyzn o najdłuższej sumarycznej długości nagrań.\n",
    "top_50_man = data_frame_for_duration_man.head(50)\n",
    "top_50_woman = data_frame_for_duration_woman.head(50)\n"
   ]
  },
  {
   "cell_type": "code",
   "execution_count": null,
   "metadata": {
    "execution": {
     "iopub.execute_input": "2024-11-12T19:04:42.430011Z",
     "iopub.status.busy": "2024-11-12T19:04:42.429516Z",
     "iopub.status.idle": "2024-11-12T19:04:42.437894Z",
     "shell.execute_reply": "2024-11-12T19:04:42.436541Z",
     "shell.execute_reply.started": "2024-11-12T19:04:42.429958Z"
    },
    "trusted": true
   },
   "outputs": [],
   "source": [
    "folders_path = '/kaggle/input/audio-to-train-model/train-clean-100'\n",
    "\n",
    "top_50_man_paths = [folders_path + '/' + ID for ID in top_50_man['ID']]\n",
    "top_50_woman_paths = [folders_path + '/' + ID for ID in top_50_woman['ID']]\n",
    "\n",
    "top_50_man_and_woman = top_50_man_paths + top_50_woman_paths\n",
    "\n",
    "with open(\"top_50_man_and_woman.pkl\", \"wb\") as file:\n",
    "    pickle.dump(top_50_man_and_woman, file)"
   ]
  },
  {
   "cell_type": "code",
   "execution_count": null,
   "metadata": {
    "execution": {
     "iopub.execute_input": "2024-11-12T19:04:42.439993Z",
     "iopub.status.busy": "2024-11-12T19:04:42.439506Z",
     "iopub.status.idle": "2024-11-12T19:04:42.455252Z",
     "shell.execute_reply": "2024-11-12T19:04:42.453855Z",
     "shell.execute_reply.started": "2024-11-12T19:04:42.439938Z"
    },
    "trusted": true
   },
   "outputs": [],
   "source": [
    "def split_audio_to_slices(path_to_files, seconds):\n",
    "    \n",
    "    # Przechodzę do katalogów wewnątrz folderu osoby (ID osoby).\n",
    "    # Każdy folder wewnętrzny zawiera więcej podfolderów, które mogą zawierać nagrania.\n",
    "    paths_inside_ID = [f.name for f in os.scandir(path_to_files) if f.is_dir()]\n",
    "\n",
    "    # Tworzę pełne ścieżki do podfolderów, aby przejść do wszystkich plików nagrań dla danej osoby.\n",
    "    full_paths_to_files = [path_to_files + '/' + path_inside_ID for path_inside_ID in paths_inside_ID]\n",
    "\n",
    "    # Zbieram wszystkie ścieżki do plików audio danej osoby.\n",
    "    # Każdy plik powinien mieć rozszerzenie `.flac`, a wszystkie pliki są przechowywane w zmiennej `all_files_for_ID`.\n",
    "\n",
    "    all_files_for_ID = []\n",
    "    \n",
    "    for full_path_to_files in full_paths_to_files:\n",
    "        files = [f.name for f in os.scandir(full_path_to_files) if f.is_file() and f.name.endswith('.flac')]\n",
    "        files = [full_path_to_files + '/' + file for file in files]\n",
    "        all_files_for_ID = all_files_for_ID + files\n",
    "\n",
    "    # Łączę wszystkie nagrania danej osoby w jedno bardzo długie nagranie.\n",
    "    # Używam częstotliwości próbkowania 16kHz (standardowe dla nagrań mowy).\n",
    "    sr = 16000\n",
    "    combined_signals = np.array([])\n",
    "\n",
    "    for file_for_ID in all_files_for_ID:\n",
    "        signal, sr = librosa.load(file_for_ID, sr=sr)\n",
    "        combined_signals = np.concatenate([combined_signals, signal])\n",
    "\n",
    "\n",
    "\n",
    "    # Długie nagranie dzielę na  fragmenty o podanej długości.\n",
    "    # Fragmenty, które mają mniej niż zadeklarowane długości nagrania (resztki na końcu nagrania), są pomijane.\n",
    "    list_for_parts = []\n",
    "    len_of_combined_signals = len(combined_signals)\n",
    "    step = seconds * sr  # Ustawienie skoku na 5 sekund\n",
    "    \n",
    "    for i in np.arange(start=0, stop=len_of_combined_signals-step, step=step):\n",
    "        list_for_parts.append(combined_signals[i:i+step].tolist())\n",
    "\n",
    "    parts = np.array(list_for_parts)\n",
    "\n",
    "    \n",
    "\n",
    "    # Liczba filtrów melowych, które określają, ile \"czapek\" melowych zostanie użytych do przetwarzania sygnału.\n",
    "    quantity_of_mel_filters = 64\n",
    "\n",
    "\n",
    "    # Liczę mel-spektogramy dla którkich fragmentów nagrań\n",
    "    mel_filters_value_list = []\n",
    "    \n",
    "    for i in range(len(parts)):\n",
    "        mel_filters_value = librosa.feature.melspectrogram(y=parts[i], \n",
    "                                                                sr=16000, \n",
    "                                                                n_mels=quantity_of_mel_filters).T\n",
    "        mel_filters_value_list.append(mel_filters_value)\n",
    "\n",
    "    mel_filters_values = np.array(mel_filters_value_list)\n",
    "\n",
    "    # Funkcja zwraca MFCC dla nagrań o długości jednej sekundy\n",
    "    return mel_filters_values"
   ]
  },
  {
   "cell_type": "code",
   "execution_count": null,
   "metadata": {
    "execution": {
     "iopub.execute_input": "2024-11-12T19:04:42.457343Z",
     "iopub.status.busy": "2024-11-12T19:04:42.456834Z",
     "iopub.status.idle": "2024-11-12T19:41:51.765226Z",
     "shell.execute_reply": "2024-11-12T19:41:51.763382Z",
     "shell.execute_reply.started": "2024-11-12T19:04:42.457289Z"
    },
    "trusted": true
   },
   "outputs": [
    {
     "name": "stdout",
     "output_type": "stream",
     "text": [
      "99\n"
     ]
    }
   ],
   "source": [
    "train_mel_filters_values_list = []\n",
    "train_owner = []\n",
    "\n",
    "# W pętli korzystam z wcześniej zdefiniowanej funkcji, która dzieli nagrania każdej z 100 osób\n",
    "# (50 mężczyzn i 50 kobiet) na zestaw treningowy i testowy.\n",
    "\n",
    "for i in range(0, 100):\n",
    "    \n",
    "    # Wywołuję funkcję split_audio_to_slices, aby podzielić nagrania danej osoby na zbiory treningowe i testowe.\n",
    "    mel_filters_values = split_audio_to_slices(top_50_man_and_woman[i], seconds = 1)\n",
    "\n",
    "    # Dodaję uzyskane dane mel-spektrogramy do odpowiednich list.\n",
    "    train_mel_filters_values_list.extend(mel_filters_values)\n",
    "\n",
    "    # Do listy train_owner i test_owner dodaję identyfikatory osób (i) tyle razy, ile jest nagrań.\n",
    "    train_owner.extend([i] * len(mel_filters_values))\n",
    "\n",
    "    # Wyświetlam numer osoby w pętli, aby śledzić postęp.\n",
    "    print(i)\n",
    "    clear_output(wait=True)"
   ]
  },
  {
   "cell_type": "code",
   "execution_count": null,
   "metadata": {
    "execution": {
     "iopub.execute_input": "2024-11-12T19:43:04.925183Z",
     "iopub.status.busy": "2024-11-12T19:43:04.924657Z",
     "iopub.status.idle": "2024-11-12T19:43:27.293594Z",
     "shell.execute_reply": "2024-11-12T19:43:27.292492Z",
     "shell.execute_reply.started": "2024-11-12T19:43:04.925124Z"
    },
    "trusted": true
   },
   "outputs": [],
   "source": [
    "# Liczę skaler aby sieć dobrze się wytrenowała\n",
    "\n",
    "commmon_df_for_train = np.concatenate(train_mel_filters_values_list, axis=0)\n",
    "\n",
    "scaler = StandardScaler()\n",
    "\n",
    "scaler.fit(commmon_df_for_train)\n",
    "\n",
    "X_train = [scaler.transform(one_audio) for one_audio in train_mel_filters_values_list]\n",
    "\n",
    "X_train = np.array(X_train)\n",
    "train_owner = np.array(train_owner)\n",
    "\n",
    "with open(\"scaler.pkl\", \"wb\") as file:\n",
    "    pickle.dump(scaler, file)"
   ]
  },
  {
   "cell_type": "code",
   "execution_count": null,
   "metadata": {
    "execution": {
     "iopub.execute_input": "2024-11-12T19:43:27.296275Z",
     "iopub.status.busy": "2024-11-12T19:43:27.295755Z",
     "iopub.status.idle": "2024-11-12T19:43:28.101055Z",
     "shell.execute_reply": "2024-11-12T19:43:28.099254Z",
     "shell.execute_reply.started": "2024-11-12T19:43:27.296219Z"
    },
    "trusted": true
   },
   "outputs": [],
   "source": [
    "# Wydzielam zbiór treningowy i walidacyjny do modelu\n",
    "train_size = int(np.floor(len(X_train) * 0.8))\n",
    "\n",
    "# Losowy wybór indeksów, które zostaną użyte jako dane treningowe (80% próbek).\n",
    "index_of_train = np.random.choice(np.arange(0, len(X_train)), size=train_size, replace=False)\n",
    "\n",
    "# Reszta indeksów (20% próbek będzie zbiorem walidacyjnym)\n",
    "rest_of_index = ~np.isin(np.arange(0, len(X_train)), index_of_train)\n",
    "\n",
    "X_valid = X_train[rest_of_index]\n",
    "X_train = X_train[index_of_train]\n",
    "\n",
    "valid_owner = train_owner[rest_of_index]\n",
    "train_owner = train_owner[index_of_train]"
   ]
  },
  {
   "cell_type": "code",
   "execution_count": null,
   "metadata": {
    "execution": {
     "iopub.execute_input": "2024-11-12T19:43:28.103927Z",
     "iopub.status.busy": "2024-11-12T19:43:28.103030Z",
     "iopub.status.idle": "2024-11-12T19:43:28.139211Z",
     "shell.execute_reply": "2024-11-12T19:43:28.137398Z",
     "shell.execute_reply.started": "2024-11-12T19:43:28.103867Z"
    },
    "trusted": true
   },
   "outputs": [],
   "source": [
    "# Przekształcam dane treningowe (X_train), aby miały odpowiedni kształt dla sieci CNN.\n",
    "# Dodaję nowy wymiar (1) na końcu, ponieważ sieci konwolucyjne oczekują wejść o formacie 4D:\n",
    "# (liczba próbek, wysokość, szerokość, liczba kanałów). Tutaj mamy 1 kanał (monofoniczne nagrania).\n",
    "\n",
    "X_train = X_train.reshape((X_train.shape[0], \n",
    "                           X_train.shape[1], \n",
    "                           X_train.shape[2], \n",
    "                           1))\n",
    "\n",
    "# Przekształcam dane walidacyjne (X_valid) do tego samego formatu 4D co dane treningowe.\n",
    "X_valid = X_valid.reshape((X_valid.shape[0], \n",
    "                           X_valid.shape[1], \n",
    "                           X_valid.shape[2], \n",
    "                           1))\n",
    "\n",
    "\n",
    "\n",
    "# Konwertuję etykiety dla zestawu treningowego (train_owner) na postać one-hot encoding dla klasyfikacji wieloklasowej (100 klas).\n",
    "# Używam funkcji to_categorical, aby zamienić numeryczne etykiety (ID osób) na macierze o rozmiarze [100], gdzie \n",
    "# każda wartość reprezentuje prawdopodobieństwo przynależności do danej klasy.\n",
    "y_train = to_categorical(train_owner, num_classes=100)\n",
    "\n",
    "# Podobnie konwertuję etykiety dla zestawu walidacyjnego na one-hot encoding.\n",
    "y_valid = to_categorical(valid_owner, num_classes=100)"
   ]
  },
  {
   "cell_type": "code",
   "execution_count": null,
   "metadata": {
    "execution": {
     "iopub.execute_input": "2024-11-12T19:43:28.143296Z",
     "iopub.status.busy": "2024-11-12T19:43:28.142781Z",
     "iopub.status.idle": "2024-11-12T19:43:32.912398Z",
     "shell.execute_reply": "2024-11-12T19:43:32.911188Z",
     "shell.execute_reply.started": "2024-11-12T19:43:28.143243Z"
    },
    "trusted": true
   },
   "outputs": [],
   "source": [
    "np.save('X_train.npy', X_train)\n",
    "np.save('X_valid.npy', X_valid)\n",
    "\n",
    "np.save('y_train.npy', y_train)\n",
    "np.save('y_valid.npy', y_valid)"
   ]
  },
  {
   "cell_type": "code",
   "execution_count": 2,
   "metadata": {
    "execution": {
     "iopub.execute_input": "2024-11-14T01:15:04.639915Z",
     "iopub.status.busy": "2024-11-14T01:15:04.638406Z",
     "iopub.status.idle": "2024-11-14T01:15:20.135056Z",
     "shell.execute_reply": "2024-11-14T01:15:20.133543Z",
     "shell.execute_reply.started": "2024-11-14T01:15:04.639862Z"
    },
    "trusted": true
   },
   "outputs": [],
   "source": [
    "X_train = np.load('/kaggle/input/data-to-train-mel-spectrogram/X_train.npy')\n",
    "X_valid = np.load('/kaggle/input/data-to-train-mel-spectrogram/X_valid.npy')\n",
    "\n",
    "y_train = np.load('/kaggle/input/data-to-train-mel-spectrogram/y_train.npy')\n",
    "y_valid = np.load('/kaggle/input/data-to-train-mel-spectrogram/y_valid.npy')"
   ]
  },
  {
   "cell_type": "code",
   "execution_count": null,
   "metadata": {
    "execution": {
     "iopub.execute_input": "2024-11-13T21:54:02.892895Z",
     "iopub.status.busy": "2024-11-13T21:54:02.892500Z",
     "iopub.status.idle": "2024-11-13T22:15:09.939517Z",
     "shell.execute_reply": "2024-11-13T22:15:09.938582Z",
     "shell.execute_reply.started": "2024-11-13T21:54:02.892858Z"
    },
    "trusted": true
   },
   "outputs": [
    {
     "data": {
      "text/html": [
       "<pre style=\"white-space:pre;overflow-x:auto;line-height:normal;font-family:Menlo,'DejaVu Sans Mono',consolas,'Courier New',monospace\"><span style=\"font-weight: bold\">Model: \"sequential_8\"</span>\n",
       "</pre>\n"
      ],
      "text/plain": [
       "\u001b[1mModel: \"sequential_8\"\u001b[0m\n"
      ]
     },
     "metadata": {},
     "output_type": "display_data"
    },
    {
     "data": {
      "text/html": [
       "<pre style=\"white-space:pre;overflow-x:auto;line-height:normal;font-family:Menlo,'DejaVu Sans Mono',consolas,'Courier New',monospace\">┏━━━━━━━━━━━━━━━━━━━━━━━━━━━━━━━━━┳━━━━━━━━━━━━━━━━━━━━━━━━┳━━━━━━━━━━━━━━━┓\n",
       "┃<span style=\"font-weight: bold\"> Layer (type)                    </span>┃<span style=\"font-weight: bold\"> Output Shape           </span>┃<span style=\"font-weight: bold\">       Param # </span>┃\n",
       "┡━━━━━━━━━━━━━━━━━━━━━━━━━━━━━━━━━╇━━━━━━━━━━━━━━━━━━━━━━━━╇━━━━━━━━━━━━━━━┩\n",
       "│ conv2d_48 (<span style=\"color: #0087ff; text-decoration-color: #0087ff\">Conv2D</span>)              │ (<span style=\"color: #00d7ff; text-decoration-color: #00d7ff\">None</span>, <span style=\"color: #00af00; text-decoration-color: #00af00\">32</span>, <span style=\"color: #00af00; text-decoration-color: #00af00\">64</span>, <span style=\"color: #00af00; text-decoration-color: #00af00\">16</span>)     │           <span style=\"color: #00af00; text-decoration-color: #00af00\">160</span> │\n",
       "├─────────────────────────────────┼────────────────────────┼───────────────┤\n",
       "│ batch_normalization_70          │ (<span style=\"color: #00d7ff; text-decoration-color: #00d7ff\">None</span>, <span style=\"color: #00af00; text-decoration-color: #00af00\">32</span>, <span style=\"color: #00af00; text-decoration-color: #00af00\">64</span>, <span style=\"color: #00af00; text-decoration-color: #00af00\">16</span>)     │            <span style=\"color: #00af00; text-decoration-color: #00af00\">64</span> │\n",
       "│ (<span style=\"color: #0087ff; text-decoration-color: #0087ff\">BatchNormalization</span>)            │                        │               │\n",
       "├─────────────────────────────────┼────────────────────────┼───────────────┤\n",
       "│ conv2d_49 (<span style=\"color: #0087ff; text-decoration-color: #0087ff\">Conv2D</span>)              │ (<span style=\"color: #00d7ff; text-decoration-color: #00d7ff\">None</span>, <span style=\"color: #00af00; text-decoration-color: #00af00\">32</span>, <span style=\"color: #00af00; text-decoration-color: #00af00\">64</span>, <span style=\"color: #00af00; text-decoration-color: #00af00\">32</span>)     │         <span style=\"color: #00af00; text-decoration-color: #00af00\">4,640</span> │\n",
       "├─────────────────────────────────┼────────────────────────┼───────────────┤\n",
       "│ batch_normalization_71          │ (<span style=\"color: #00d7ff; text-decoration-color: #00d7ff\">None</span>, <span style=\"color: #00af00; text-decoration-color: #00af00\">32</span>, <span style=\"color: #00af00; text-decoration-color: #00af00\">64</span>, <span style=\"color: #00af00; text-decoration-color: #00af00\">32</span>)     │           <span style=\"color: #00af00; text-decoration-color: #00af00\">128</span> │\n",
       "│ (<span style=\"color: #0087ff; text-decoration-color: #0087ff\">BatchNormalization</span>)            │                        │               │\n",
       "├─────────────────────────────────┼────────────────────────┼───────────────┤\n",
       "│ dropout_61 (<span style=\"color: #0087ff; text-decoration-color: #0087ff\">Dropout</span>)            │ (<span style=\"color: #00d7ff; text-decoration-color: #00d7ff\">None</span>, <span style=\"color: #00af00; text-decoration-color: #00af00\">32</span>, <span style=\"color: #00af00; text-decoration-color: #00af00\">64</span>, <span style=\"color: #00af00; text-decoration-color: #00af00\">32</span>)     │             <span style=\"color: #00af00; text-decoration-color: #00af00\">0</span> │\n",
       "├─────────────────────────────────┼────────────────────────┼───────────────┤\n",
       "│ conv2d_50 (<span style=\"color: #0087ff; text-decoration-color: #0087ff\">Conv2D</span>)              │ (<span style=\"color: #00d7ff; text-decoration-color: #00d7ff\">None</span>, <span style=\"color: #00af00; text-decoration-color: #00af00\">32</span>, <span style=\"color: #00af00; text-decoration-color: #00af00\">64</span>, <span style=\"color: #00af00; text-decoration-color: #00af00\">64</span>)     │        <span style=\"color: #00af00; text-decoration-color: #00af00\">18,496</span> │\n",
       "├─────────────────────────────────┼────────────────────────┼───────────────┤\n",
       "│ batch_normalization_72          │ (<span style=\"color: #00d7ff; text-decoration-color: #00d7ff\">None</span>, <span style=\"color: #00af00; text-decoration-color: #00af00\">32</span>, <span style=\"color: #00af00; text-decoration-color: #00af00\">64</span>, <span style=\"color: #00af00; text-decoration-color: #00af00\">64</span>)     │           <span style=\"color: #00af00; text-decoration-color: #00af00\">256</span> │\n",
       "│ (<span style=\"color: #0087ff; text-decoration-color: #0087ff\">BatchNormalization</span>)            │                        │               │\n",
       "├─────────────────────────────────┼────────────────────────┼───────────────┤\n",
       "│ dropout_62 (<span style=\"color: #0087ff; text-decoration-color: #0087ff\">Dropout</span>)            │ (<span style=\"color: #00d7ff; text-decoration-color: #00d7ff\">None</span>, <span style=\"color: #00af00; text-decoration-color: #00af00\">32</span>, <span style=\"color: #00af00; text-decoration-color: #00af00\">64</span>, <span style=\"color: #00af00; text-decoration-color: #00af00\">64</span>)     │             <span style=\"color: #00af00; text-decoration-color: #00af00\">0</span> │\n",
       "├─────────────────────────────────┼────────────────────────┼───────────────┤\n",
       "│ conv2d_51 (<span style=\"color: #0087ff; text-decoration-color: #0087ff\">Conv2D</span>)              │ (<span style=\"color: #00d7ff; text-decoration-color: #00d7ff\">None</span>, <span style=\"color: #00af00; text-decoration-color: #00af00\">32</span>, <span style=\"color: #00af00; text-decoration-color: #00af00\">64</span>, <span style=\"color: #00af00; text-decoration-color: #00af00\">128</span>)    │        <span style=\"color: #00af00; text-decoration-color: #00af00\">73,856</span> │\n",
       "├─────────────────────────────────┼────────────────────────┼───────────────┤\n",
       "│ batch_normalization_73          │ (<span style=\"color: #00d7ff; text-decoration-color: #00d7ff\">None</span>, <span style=\"color: #00af00; text-decoration-color: #00af00\">32</span>, <span style=\"color: #00af00; text-decoration-color: #00af00\">64</span>, <span style=\"color: #00af00; text-decoration-color: #00af00\">128</span>)    │           <span style=\"color: #00af00; text-decoration-color: #00af00\">512</span> │\n",
       "│ (<span style=\"color: #0087ff; text-decoration-color: #0087ff\">BatchNormalization</span>)            │                        │               │\n",
       "├─────────────────────────────────┼────────────────────────┼───────────────┤\n",
       "│ average_pooling2d_23            │ (<span style=\"color: #00d7ff; text-decoration-color: #00d7ff\">None</span>, <span style=\"color: #00af00; text-decoration-color: #00af00\">16</span>, <span style=\"color: #00af00; text-decoration-color: #00af00\">32</span>, <span style=\"color: #00af00; text-decoration-color: #00af00\">128</span>)    │             <span style=\"color: #00af00; text-decoration-color: #00af00\">0</span> │\n",
       "│ (<span style=\"color: #0087ff; text-decoration-color: #0087ff\">AveragePooling2D</span>)              │                        │               │\n",
       "├─────────────────────────────────┼────────────────────────┼───────────────┤\n",
       "│ dropout_63 (<span style=\"color: #0087ff; text-decoration-color: #0087ff\">Dropout</span>)            │ (<span style=\"color: #00d7ff; text-decoration-color: #00d7ff\">None</span>, <span style=\"color: #00af00; text-decoration-color: #00af00\">16</span>, <span style=\"color: #00af00; text-decoration-color: #00af00\">32</span>, <span style=\"color: #00af00; text-decoration-color: #00af00\">128</span>)    │             <span style=\"color: #00af00; text-decoration-color: #00af00\">0</span> │\n",
       "├─────────────────────────────────┼────────────────────────┼───────────────┤\n",
       "│ conv2d_52 (<span style=\"color: #0087ff; text-decoration-color: #0087ff\">Conv2D</span>)              │ (<span style=\"color: #00d7ff; text-decoration-color: #00d7ff\">None</span>, <span style=\"color: #00af00; text-decoration-color: #00af00\">16</span>, <span style=\"color: #00af00; text-decoration-color: #00af00\">32</span>, <span style=\"color: #00af00; text-decoration-color: #00af00\">256</span>)    │       <span style=\"color: #00af00; text-decoration-color: #00af00\">295,168</span> │\n",
       "├─────────────────────────────────┼────────────────────────┼───────────────┤\n",
       "│ batch_normalization_74          │ (<span style=\"color: #00d7ff; text-decoration-color: #00d7ff\">None</span>, <span style=\"color: #00af00; text-decoration-color: #00af00\">16</span>, <span style=\"color: #00af00; text-decoration-color: #00af00\">32</span>, <span style=\"color: #00af00; text-decoration-color: #00af00\">256</span>)    │         <span style=\"color: #00af00; text-decoration-color: #00af00\">1,024</span> │\n",
       "│ (<span style=\"color: #0087ff; text-decoration-color: #0087ff\">BatchNormalization</span>)            │                        │               │\n",
       "├─────────────────────────────────┼────────────────────────┼───────────────┤\n",
       "│ average_pooling2d_24            │ (<span style=\"color: #00d7ff; text-decoration-color: #00d7ff\">None</span>, <span style=\"color: #00af00; text-decoration-color: #00af00\">8</span>, <span style=\"color: #00af00; text-decoration-color: #00af00\">16</span>, <span style=\"color: #00af00; text-decoration-color: #00af00\">256</span>)     │             <span style=\"color: #00af00; text-decoration-color: #00af00\">0</span> │\n",
       "│ (<span style=\"color: #0087ff; text-decoration-color: #0087ff\">AveragePooling2D</span>)              │                        │               │\n",
       "├─────────────────────────────────┼────────────────────────┼───────────────┤\n",
       "│ dropout_64 (<span style=\"color: #0087ff; text-decoration-color: #0087ff\">Dropout</span>)            │ (<span style=\"color: #00d7ff; text-decoration-color: #00d7ff\">None</span>, <span style=\"color: #00af00; text-decoration-color: #00af00\">8</span>, <span style=\"color: #00af00; text-decoration-color: #00af00\">16</span>, <span style=\"color: #00af00; text-decoration-color: #00af00\">256</span>)     │             <span style=\"color: #00af00; text-decoration-color: #00af00\">0</span> │\n",
       "├─────────────────────────────────┼────────────────────────┼───────────────┤\n",
       "│ conv2d_53 (<span style=\"color: #0087ff; text-decoration-color: #0087ff\">Conv2D</span>)              │ (<span style=\"color: #00d7ff; text-decoration-color: #00d7ff\">None</span>, <span style=\"color: #00af00; text-decoration-color: #00af00\">8</span>, <span style=\"color: #00af00; text-decoration-color: #00af00\">16</span>, <span style=\"color: #00af00; text-decoration-color: #00af00\">512</span>)     │     <span style=\"color: #00af00; text-decoration-color: #00af00\">1,180,160</span> │\n",
       "├─────────────────────────────────┼────────────────────────┼───────────────┤\n",
       "│ batch_normalization_75          │ (<span style=\"color: #00d7ff; text-decoration-color: #00d7ff\">None</span>, <span style=\"color: #00af00; text-decoration-color: #00af00\">8</span>, <span style=\"color: #00af00; text-decoration-color: #00af00\">16</span>, <span style=\"color: #00af00; text-decoration-color: #00af00\">512</span>)     │         <span style=\"color: #00af00; text-decoration-color: #00af00\">2,048</span> │\n",
       "│ (<span style=\"color: #0087ff; text-decoration-color: #0087ff\">BatchNormalization</span>)            │                        │               │\n",
       "├─────────────────────────────────┼────────────────────────┼───────────────┤\n",
       "│ average_pooling2d_25            │ (<span style=\"color: #00d7ff; text-decoration-color: #00d7ff\">None</span>, <span style=\"color: #00af00; text-decoration-color: #00af00\">4</span>, <span style=\"color: #00af00; text-decoration-color: #00af00\">8</span>, <span style=\"color: #00af00; text-decoration-color: #00af00\">512</span>)      │             <span style=\"color: #00af00; text-decoration-color: #00af00\">0</span> │\n",
       "│ (<span style=\"color: #0087ff; text-decoration-color: #0087ff\">AveragePooling2D</span>)              │                        │               │\n",
       "├─────────────────────────────────┼────────────────────────┼───────────────┤\n",
       "│ dropout_65 (<span style=\"color: #0087ff; text-decoration-color: #0087ff\">Dropout</span>)            │ (<span style=\"color: #00d7ff; text-decoration-color: #00d7ff\">None</span>, <span style=\"color: #00af00; text-decoration-color: #00af00\">4</span>, <span style=\"color: #00af00; text-decoration-color: #00af00\">8</span>, <span style=\"color: #00af00; text-decoration-color: #00af00\">512</span>)      │             <span style=\"color: #00af00; text-decoration-color: #00af00\">0</span> │\n",
       "├─────────────────────────────────┼────────────────────────┼───────────────┤\n",
       "│ flatten_8 (<span style=\"color: #0087ff; text-decoration-color: #0087ff\">Flatten</span>)             │ (<span style=\"color: #00d7ff; text-decoration-color: #00d7ff\">None</span>, <span style=\"color: #00af00; text-decoration-color: #00af00\">16384</span>)          │             <span style=\"color: #00af00; text-decoration-color: #00af00\">0</span> │\n",
       "├─────────────────────────────────┼────────────────────────┼───────────────┤\n",
       "│ dense_36 (<span style=\"color: #0087ff; text-decoration-color: #0087ff\">Dense</span>)                │ (<span style=\"color: #00d7ff; text-decoration-color: #00d7ff\">None</span>, <span style=\"color: #00af00; text-decoration-color: #00af00\">1024</span>)           │    <span style=\"color: #00af00; text-decoration-color: #00af00\">16,778,240</span> │\n",
       "├─────────────────────────────────┼────────────────────────┼───────────────┤\n",
       "│ batch_normalization_76          │ (<span style=\"color: #00d7ff; text-decoration-color: #00d7ff\">None</span>, <span style=\"color: #00af00; text-decoration-color: #00af00\">1024</span>)           │         <span style=\"color: #00af00; text-decoration-color: #00af00\">4,096</span> │\n",
       "│ (<span style=\"color: #0087ff; text-decoration-color: #0087ff\">BatchNormalization</span>)            │                        │               │\n",
       "├─────────────────────────────────┼────────────────────────┼───────────────┤\n",
       "│ dropout_66 (<span style=\"color: #0087ff; text-decoration-color: #0087ff\">Dropout</span>)            │ (<span style=\"color: #00d7ff; text-decoration-color: #00d7ff\">None</span>, <span style=\"color: #00af00; text-decoration-color: #00af00\">1024</span>)           │             <span style=\"color: #00af00; text-decoration-color: #00af00\">0</span> │\n",
       "├─────────────────────────────────┼────────────────────────┼───────────────┤\n",
       "│ dense_37 (<span style=\"color: #0087ff; text-decoration-color: #0087ff\">Dense</span>)                │ (<span style=\"color: #00d7ff; text-decoration-color: #00d7ff\">None</span>, <span style=\"color: #00af00; text-decoration-color: #00af00\">512</span>)            │       <span style=\"color: #00af00; text-decoration-color: #00af00\">524,800</span> │\n",
       "├─────────────────────────────────┼────────────────────────┼───────────────┤\n",
       "│ batch_normalization_77          │ (<span style=\"color: #00d7ff; text-decoration-color: #00d7ff\">None</span>, <span style=\"color: #00af00; text-decoration-color: #00af00\">512</span>)            │         <span style=\"color: #00af00; text-decoration-color: #00af00\">2,048</span> │\n",
       "│ (<span style=\"color: #0087ff; text-decoration-color: #0087ff\">BatchNormalization</span>)            │                        │               │\n",
       "├─────────────────────────────────┼────────────────────────┼───────────────┤\n",
       "│ dropout_67 (<span style=\"color: #0087ff; text-decoration-color: #0087ff\">Dropout</span>)            │ (<span style=\"color: #00d7ff; text-decoration-color: #00d7ff\">None</span>, <span style=\"color: #00af00; text-decoration-color: #00af00\">512</span>)            │             <span style=\"color: #00af00; text-decoration-color: #00af00\">0</span> │\n",
       "├─────────────────────────────────┼────────────────────────┼───────────────┤\n",
       "│ dense_38 (<span style=\"color: #0087ff; text-decoration-color: #0087ff\">Dense</span>)                │ (<span style=\"color: #00d7ff; text-decoration-color: #00d7ff\">None</span>, <span style=\"color: #00af00; text-decoration-color: #00af00\">256</span>)            │       <span style=\"color: #00af00; text-decoration-color: #00af00\">131,328</span> │\n",
       "├─────────────────────────────────┼────────────────────────┼───────────────┤\n",
       "│ batch_normalization_78          │ (<span style=\"color: #00d7ff; text-decoration-color: #00d7ff\">None</span>, <span style=\"color: #00af00; text-decoration-color: #00af00\">256</span>)            │         <span style=\"color: #00af00; text-decoration-color: #00af00\">1,024</span> │\n",
       "│ (<span style=\"color: #0087ff; text-decoration-color: #0087ff\">BatchNormalization</span>)            │                        │               │\n",
       "├─────────────────────────────────┼────────────────────────┼───────────────┤\n",
       "│ dropout_68 (<span style=\"color: #0087ff; text-decoration-color: #0087ff\">Dropout</span>)            │ (<span style=\"color: #00d7ff; text-decoration-color: #00d7ff\">None</span>, <span style=\"color: #00af00; text-decoration-color: #00af00\">256</span>)            │             <span style=\"color: #00af00; text-decoration-color: #00af00\">0</span> │\n",
       "├─────────────────────────────────┼────────────────────────┼───────────────┤\n",
       "│ bottleneck (<span style=\"color: #0087ff; text-decoration-color: #0087ff\">Dense</span>)              │ (<span style=\"color: #00d7ff; text-decoration-color: #00d7ff\">None</span>, <span style=\"color: #00af00; text-decoration-color: #00af00\">128</span>)            │        <span style=\"color: #00af00; text-decoration-color: #00af00\">32,896</span> │\n",
       "├─────────────────────────────────┼────────────────────────┼───────────────┤\n",
       "│ dense_39 (<span style=\"color: #0087ff; text-decoration-color: #0087ff\">Dense</span>)                │ (<span style=\"color: #00d7ff; text-decoration-color: #00d7ff\">None</span>, <span style=\"color: #00af00; text-decoration-color: #00af00\">100</span>)            │        <span style=\"color: #00af00; text-decoration-color: #00af00\">12,900</span> │\n",
       "└─────────────────────────────────┴────────────────────────┴───────────────┘\n",
       "</pre>\n"
      ],
      "text/plain": [
       "┏━━━━━━━━━━━━━━━━━━━━━━━━━━━━━━━━━┳━━━━━━━━━━━━━━━━━━━━━━━━┳━━━━━━━━━━━━━━━┓\n",
       "┃\u001b[1m \u001b[0m\u001b[1mLayer (type)                   \u001b[0m\u001b[1m \u001b[0m┃\u001b[1m \u001b[0m\u001b[1mOutput Shape          \u001b[0m\u001b[1m \u001b[0m┃\u001b[1m \u001b[0m\u001b[1m      Param #\u001b[0m\u001b[1m \u001b[0m┃\n",
       "┡━━━━━━━━━━━━━━━━━━━━━━━━━━━━━━━━━╇━━━━━━━━━━━━━━━━━━━━━━━━╇━━━━━━━━━━━━━━━┩\n",
       "│ conv2d_48 (\u001b[38;5;33mConv2D\u001b[0m)              │ (\u001b[38;5;45mNone\u001b[0m, \u001b[38;5;34m32\u001b[0m, \u001b[38;5;34m64\u001b[0m, \u001b[38;5;34m16\u001b[0m)     │           \u001b[38;5;34m160\u001b[0m │\n",
       "├─────────────────────────────────┼────────────────────────┼───────────────┤\n",
       "│ batch_normalization_70          │ (\u001b[38;5;45mNone\u001b[0m, \u001b[38;5;34m32\u001b[0m, \u001b[38;5;34m64\u001b[0m, \u001b[38;5;34m16\u001b[0m)     │            \u001b[38;5;34m64\u001b[0m │\n",
       "│ (\u001b[38;5;33mBatchNormalization\u001b[0m)            │                        │               │\n",
       "├─────────────────────────────────┼────────────────────────┼───────────────┤\n",
       "│ conv2d_49 (\u001b[38;5;33mConv2D\u001b[0m)              │ (\u001b[38;5;45mNone\u001b[0m, \u001b[38;5;34m32\u001b[0m, \u001b[38;5;34m64\u001b[0m, \u001b[38;5;34m32\u001b[0m)     │         \u001b[38;5;34m4,640\u001b[0m │\n",
       "├─────────────────────────────────┼────────────────────────┼───────────────┤\n",
       "│ batch_normalization_71          │ (\u001b[38;5;45mNone\u001b[0m, \u001b[38;5;34m32\u001b[0m, \u001b[38;5;34m64\u001b[0m, \u001b[38;5;34m32\u001b[0m)     │           \u001b[38;5;34m128\u001b[0m │\n",
       "│ (\u001b[38;5;33mBatchNormalization\u001b[0m)            │                        │               │\n",
       "├─────────────────────────────────┼────────────────────────┼───────────────┤\n",
       "│ dropout_61 (\u001b[38;5;33mDropout\u001b[0m)            │ (\u001b[38;5;45mNone\u001b[0m, \u001b[38;5;34m32\u001b[0m, \u001b[38;5;34m64\u001b[0m, \u001b[38;5;34m32\u001b[0m)     │             \u001b[38;5;34m0\u001b[0m │\n",
       "├─────────────────────────────────┼────────────────────────┼───────────────┤\n",
       "│ conv2d_50 (\u001b[38;5;33mConv2D\u001b[0m)              │ (\u001b[38;5;45mNone\u001b[0m, \u001b[38;5;34m32\u001b[0m, \u001b[38;5;34m64\u001b[0m, \u001b[38;5;34m64\u001b[0m)     │        \u001b[38;5;34m18,496\u001b[0m │\n",
       "├─────────────────────────────────┼────────────────────────┼───────────────┤\n",
       "│ batch_normalization_72          │ (\u001b[38;5;45mNone\u001b[0m, \u001b[38;5;34m32\u001b[0m, \u001b[38;5;34m64\u001b[0m, \u001b[38;5;34m64\u001b[0m)     │           \u001b[38;5;34m256\u001b[0m │\n",
       "│ (\u001b[38;5;33mBatchNormalization\u001b[0m)            │                        │               │\n",
       "├─────────────────────────────────┼────────────────────────┼───────────────┤\n",
       "│ dropout_62 (\u001b[38;5;33mDropout\u001b[0m)            │ (\u001b[38;5;45mNone\u001b[0m, \u001b[38;5;34m32\u001b[0m, \u001b[38;5;34m64\u001b[0m, \u001b[38;5;34m64\u001b[0m)     │             \u001b[38;5;34m0\u001b[0m │\n",
       "├─────────────────────────────────┼────────────────────────┼───────────────┤\n",
       "│ conv2d_51 (\u001b[38;5;33mConv2D\u001b[0m)              │ (\u001b[38;5;45mNone\u001b[0m, \u001b[38;5;34m32\u001b[0m, \u001b[38;5;34m64\u001b[0m, \u001b[38;5;34m128\u001b[0m)    │        \u001b[38;5;34m73,856\u001b[0m │\n",
       "├─────────────────────────────────┼────────────────────────┼───────────────┤\n",
       "│ batch_normalization_73          │ (\u001b[38;5;45mNone\u001b[0m, \u001b[38;5;34m32\u001b[0m, \u001b[38;5;34m64\u001b[0m, \u001b[38;5;34m128\u001b[0m)    │           \u001b[38;5;34m512\u001b[0m │\n",
       "│ (\u001b[38;5;33mBatchNormalization\u001b[0m)            │                        │               │\n",
       "├─────────────────────────────────┼────────────────────────┼───────────────┤\n",
       "│ average_pooling2d_23            │ (\u001b[38;5;45mNone\u001b[0m, \u001b[38;5;34m16\u001b[0m, \u001b[38;5;34m32\u001b[0m, \u001b[38;5;34m128\u001b[0m)    │             \u001b[38;5;34m0\u001b[0m │\n",
       "│ (\u001b[38;5;33mAveragePooling2D\u001b[0m)              │                        │               │\n",
       "├─────────────────────────────────┼────────────────────────┼───────────────┤\n",
       "│ dropout_63 (\u001b[38;5;33mDropout\u001b[0m)            │ (\u001b[38;5;45mNone\u001b[0m, \u001b[38;5;34m16\u001b[0m, \u001b[38;5;34m32\u001b[0m, \u001b[38;5;34m128\u001b[0m)    │             \u001b[38;5;34m0\u001b[0m │\n",
       "├─────────────────────────────────┼────────────────────────┼───────────────┤\n",
       "│ conv2d_52 (\u001b[38;5;33mConv2D\u001b[0m)              │ (\u001b[38;5;45mNone\u001b[0m, \u001b[38;5;34m16\u001b[0m, \u001b[38;5;34m32\u001b[0m, \u001b[38;5;34m256\u001b[0m)    │       \u001b[38;5;34m295,168\u001b[0m │\n",
       "├─────────────────────────────────┼────────────────────────┼───────────────┤\n",
       "│ batch_normalization_74          │ (\u001b[38;5;45mNone\u001b[0m, \u001b[38;5;34m16\u001b[0m, \u001b[38;5;34m32\u001b[0m, \u001b[38;5;34m256\u001b[0m)    │         \u001b[38;5;34m1,024\u001b[0m │\n",
       "│ (\u001b[38;5;33mBatchNormalization\u001b[0m)            │                        │               │\n",
       "├─────────────────────────────────┼────────────────────────┼───────────────┤\n",
       "│ average_pooling2d_24            │ (\u001b[38;5;45mNone\u001b[0m, \u001b[38;5;34m8\u001b[0m, \u001b[38;5;34m16\u001b[0m, \u001b[38;5;34m256\u001b[0m)     │             \u001b[38;5;34m0\u001b[0m │\n",
       "│ (\u001b[38;5;33mAveragePooling2D\u001b[0m)              │                        │               │\n",
       "├─────────────────────────────────┼────────────────────────┼───────────────┤\n",
       "│ dropout_64 (\u001b[38;5;33mDropout\u001b[0m)            │ (\u001b[38;5;45mNone\u001b[0m, \u001b[38;5;34m8\u001b[0m, \u001b[38;5;34m16\u001b[0m, \u001b[38;5;34m256\u001b[0m)     │             \u001b[38;5;34m0\u001b[0m │\n",
       "├─────────────────────────────────┼────────────────────────┼───────────────┤\n",
       "│ conv2d_53 (\u001b[38;5;33mConv2D\u001b[0m)              │ (\u001b[38;5;45mNone\u001b[0m, \u001b[38;5;34m8\u001b[0m, \u001b[38;5;34m16\u001b[0m, \u001b[38;5;34m512\u001b[0m)     │     \u001b[38;5;34m1,180,160\u001b[0m │\n",
       "├─────────────────────────────────┼────────────────────────┼───────────────┤\n",
       "│ batch_normalization_75          │ (\u001b[38;5;45mNone\u001b[0m, \u001b[38;5;34m8\u001b[0m, \u001b[38;5;34m16\u001b[0m, \u001b[38;5;34m512\u001b[0m)     │         \u001b[38;5;34m2,048\u001b[0m │\n",
       "│ (\u001b[38;5;33mBatchNormalization\u001b[0m)            │                        │               │\n",
       "├─────────────────────────────────┼────────────────────────┼───────────────┤\n",
       "│ average_pooling2d_25            │ (\u001b[38;5;45mNone\u001b[0m, \u001b[38;5;34m4\u001b[0m, \u001b[38;5;34m8\u001b[0m, \u001b[38;5;34m512\u001b[0m)      │             \u001b[38;5;34m0\u001b[0m │\n",
       "│ (\u001b[38;5;33mAveragePooling2D\u001b[0m)              │                        │               │\n",
       "├─────────────────────────────────┼────────────────────────┼───────────────┤\n",
       "│ dropout_65 (\u001b[38;5;33mDropout\u001b[0m)            │ (\u001b[38;5;45mNone\u001b[0m, \u001b[38;5;34m4\u001b[0m, \u001b[38;5;34m8\u001b[0m, \u001b[38;5;34m512\u001b[0m)      │             \u001b[38;5;34m0\u001b[0m │\n",
       "├─────────────────────────────────┼────────────────────────┼───────────────┤\n",
       "│ flatten_8 (\u001b[38;5;33mFlatten\u001b[0m)             │ (\u001b[38;5;45mNone\u001b[0m, \u001b[38;5;34m16384\u001b[0m)          │             \u001b[38;5;34m0\u001b[0m │\n",
       "├─────────────────────────────────┼────────────────────────┼───────────────┤\n",
       "│ dense_36 (\u001b[38;5;33mDense\u001b[0m)                │ (\u001b[38;5;45mNone\u001b[0m, \u001b[38;5;34m1024\u001b[0m)           │    \u001b[38;5;34m16,778,240\u001b[0m │\n",
       "├─────────────────────────────────┼────────────────────────┼───────────────┤\n",
       "│ batch_normalization_76          │ (\u001b[38;5;45mNone\u001b[0m, \u001b[38;5;34m1024\u001b[0m)           │         \u001b[38;5;34m4,096\u001b[0m │\n",
       "│ (\u001b[38;5;33mBatchNormalization\u001b[0m)            │                        │               │\n",
       "├─────────────────────────────────┼────────────────────────┼───────────────┤\n",
       "│ dropout_66 (\u001b[38;5;33mDropout\u001b[0m)            │ (\u001b[38;5;45mNone\u001b[0m, \u001b[38;5;34m1024\u001b[0m)           │             \u001b[38;5;34m0\u001b[0m │\n",
       "├─────────────────────────────────┼────────────────────────┼───────────────┤\n",
       "│ dense_37 (\u001b[38;5;33mDense\u001b[0m)                │ (\u001b[38;5;45mNone\u001b[0m, \u001b[38;5;34m512\u001b[0m)            │       \u001b[38;5;34m524,800\u001b[0m │\n",
       "├─────────────────────────────────┼────────────────────────┼───────────────┤\n",
       "│ batch_normalization_77          │ (\u001b[38;5;45mNone\u001b[0m, \u001b[38;5;34m512\u001b[0m)            │         \u001b[38;5;34m2,048\u001b[0m │\n",
       "│ (\u001b[38;5;33mBatchNormalization\u001b[0m)            │                        │               │\n",
       "├─────────────────────────────────┼────────────────────────┼───────────────┤\n",
       "│ dropout_67 (\u001b[38;5;33mDropout\u001b[0m)            │ (\u001b[38;5;45mNone\u001b[0m, \u001b[38;5;34m512\u001b[0m)            │             \u001b[38;5;34m0\u001b[0m │\n",
       "├─────────────────────────────────┼────────────────────────┼───────────────┤\n",
       "│ dense_38 (\u001b[38;5;33mDense\u001b[0m)                │ (\u001b[38;5;45mNone\u001b[0m, \u001b[38;5;34m256\u001b[0m)            │       \u001b[38;5;34m131,328\u001b[0m │\n",
       "├─────────────────────────────────┼────────────────────────┼───────────────┤\n",
       "│ batch_normalization_78          │ (\u001b[38;5;45mNone\u001b[0m, \u001b[38;5;34m256\u001b[0m)            │         \u001b[38;5;34m1,024\u001b[0m │\n",
       "│ (\u001b[38;5;33mBatchNormalization\u001b[0m)            │                        │               │\n",
       "├─────────────────────────────────┼────────────────────────┼───────────────┤\n",
       "│ dropout_68 (\u001b[38;5;33mDropout\u001b[0m)            │ (\u001b[38;5;45mNone\u001b[0m, \u001b[38;5;34m256\u001b[0m)            │             \u001b[38;5;34m0\u001b[0m │\n",
       "├─────────────────────────────────┼────────────────────────┼───────────────┤\n",
       "│ bottleneck (\u001b[38;5;33mDense\u001b[0m)              │ (\u001b[38;5;45mNone\u001b[0m, \u001b[38;5;34m128\u001b[0m)            │        \u001b[38;5;34m32,896\u001b[0m │\n",
       "├─────────────────────────────────┼────────────────────────┼───────────────┤\n",
       "│ dense_39 (\u001b[38;5;33mDense\u001b[0m)                │ (\u001b[38;5;45mNone\u001b[0m, \u001b[38;5;34m100\u001b[0m)            │        \u001b[38;5;34m12,900\u001b[0m │\n",
       "└─────────────────────────────────┴────────────────────────┴───────────────┘\n"
      ]
     },
     "metadata": {},
     "output_type": "display_data"
    },
    {
     "data": {
      "text/html": [
       "<pre style=\"white-space:pre;overflow-x:auto;line-height:normal;font-family:Menlo,'DejaVu Sans Mono',consolas,'Courier New',monospace\"><span style=\"font-weight: bold\"> Total params: </span><span style=\"color: #00af00; text-decoration-color: #00af00\">19,063,844</span> (72.72 MB)\n",
       "</pre>\n"
      ],
      "text/plain": [
       "\u001b[1m Total params: \u001b[0m\u001b[38;5;34m19,063,844\u001b[0m (72.72 MB)\n"
      ]
     },
     "metadata": {},
     "output_type": "display_data"
    },
    {
     "data": {
      "text/html": [
       "<pre style=\"white-space:pre;overflow-x:auto;line-height:normal;font-family:Menlo,'DejaVu Sans Mono',consolas,'Courier New',monospace\"><span style=\"font-weight: bold\"> Trainable params: </span><span style=\"color: #00af00; text-decoration-color: #00af00\">19,058,244</span> (72.70 MB)\n",
       "</pre>\n"
      ],
      "text/plain": [
       "\u001b[1m Trainable params: \u001b[0m\u001b[38;5;34m19,058,244\u001b[0m (72.70 MB)\n"
      ]
     },
     "metadata": {},
     "output_type": "display_data"
    },
    {
     "data": {
      "text/html": [
       "<pre style=\"white-space:pre;overflow-x:auto;line-height:normal;font-family:Menlo,'DejaVu Sans Mono',consolas,'Courier New',monospace\"><span style=\"font-weight: bold\"> Non-trainable params: </span><span style=\"color: #00af00; text-decoration-color: #00af00\">5,600</span> (21.88 KB)\n",
       "</pre>\n"
      ],
      "text/plain": [
       "\u001b[1m Non-trainable params: \u001b[0m\u001b[38;5;34m5,600\u001b[0m (21.88 KB)\n"
      ]
     },
     "metadata": {},
     "output_type": "display_data"
    },
    {
     "name": "stdout",
     "output_type": "stream",
     "text": [
      "Epoch 1/20\n",
      "\u001b[1m3775/3775\u001b[0m \u001b[32m━━━━━━━━━━━━━━━━━━━━\u001b[0m\u001b[37m\u001b[0m \u001b[1m93s\u001b[0m 20ms/step - accuracy: 0.3160 - loss: 2.8505 - val_accuracy: 0.7817 - val_loss: 0.7593 - learning_rate: 0.0010\n",
      "Epoch 2/20\n",
      "\u001b[1m3775/3775\u001b[0m \u001b[32m━━━━━━━━━━━━━━━━━━━━\u001b[0m\u001b[37m\u001b[0m \u001b[1m62s\u001b[0m 16ms/step - accuracy: 0.7513 - loss: 0.8751 - val_accuracy: 0.8714 - val_loss: 0.4450 - learning_rate: 0.0010\n",
      "Epoch 3/20\n",
      "\u001b[1m3775/3775\u001b[0m \u001b[32m━━━━━━━━━━━━━━━━━━━━\u001b[0m\u001b[37m\u001b[0m \u001b[1m61s\u001b[0m 16ms/step - accuracy: 0.8240 - loss: 0.6147 - val_accuracy: 0.8780 - val_loss: 0.4345 - learning_rate: 0.0010\n",
      "Epoch 4/20\n",
      "\u001b[1m3775/3775\u001b[0m \u001b[32m━━━━━━━━━━━━━━━━━━━━\u001b[0m\u001b[37m\u001b[0m \u001b[1m62s\u001b[0m 16ms/step - accuracy: 0.8623 - loss: 0.4764 - val_accuracy: 0.8710 - val_loss: 0.4708 - learning_rate: 0.0010\n",
      "Epoch 5/20\n",
      "\u001b[1m3775/3775\u001b[0m \u001b[32m━━━━━━━━━━━━━━━━━━━━\u001b[0m\u001b[37m\u001b[0m \u001b[1m61s\u001b[0m 16ms/step - accuracy: 0.8814 - loss: 0.4147 - val_accuracy: 0.9327 - val_loss: 0.2383 - learning_rate: 0.0010\n",
      "Epoch 6/20\n",
      "\u001b[1m3775/3775\u001b[0m \u001b[32m━━━━━━━━━━━━━━━━━━━━\u001b[0m\u001b[37m\u001b[0m \u001b[1m62s\u001b[0m 16ms/step - accuracy: 0.8990 - loss: 0.3503 - val_accuracy: 0.9418 - val_loss: 0.2074 - learning_rate: 0.0010\n",
      "Epoch 7/20\n",
      "\u001b[1m3775/3775\u001b[0m \u001b[32m━━━━━━━━━━━━━━━━━━━━\u001b[0m\u001b[37m\u001b[0m \u001b[1m63s\u001b[0m 17ms/step - accuracy: 0.9091 - loss: 0.3195 - val_accuracy: 0.9286 - val_loss: 0.2534 - learning_rate: 0.0010\n",
      "Epoch 8/20\n",
      "\u001b[1m3775/3775\u001b[0m \u001b[32m━━━━━━━━━━━━━━━━━━━━\u001b[0m\u001b[37m\u001b[0m \u001b[1m62s\u001b[0m 16ms/step - accuracy: 0.9181 - loss: 0.2787 - val_accuracy: 0.9072 - val_loss: 0.3430 - learning_rate: 0.0010\n",
      "Epoch 9/20\n",
      "\u001b[1m3775/3775\u001b[0m \u001b[32m━━━━━━━━━━━━━━━━━━━━\u001b[0m\u001b[37m\u001b[0m \u001b[1m62s\u001b[0m 16ms/step - accuracy: 0.9265 - loss: 0.2519 - val_accuracy: 0.9453 - val_loss: 0.1940 - learning_rate: 0.0010\n",
      "Epoch 10/20\n",
      "\u001b[1m3775/3775\u001b[0m \u001b[32m━━━━━━━━━━━━━━━━━━━━\u001b[0m\u001b[37m\u001b[0m \u001b[1m62s\u001b[0m 16ms/step - accuracy: 0.9322 - loss: 0.2339 - val_accuracy: 0.9565 - val_loss: 0.1536 - learning_rate: 0.0010\n",
      "Epoch 11/20\n",
      "\u001b[1m3775/3775\u001b[0m \u001b[32m━━━━━━━━━━━━━━━━━━━━\u001b[0m\u001b[37m\u001b[0m \u001b[1m61s\u001b[0m 16ms/step - accuracy: 0.9384 - loss: 0.2135 - val_accuracy: 0.9474 - val_loss: 0.2063 - learning_rate: 0.0010\n",
      "Epoch 12/20\n",
      "\u001b[1m3775/3775\u001b[0m \u001b[32m━━━━━━━━━━━━━━━━━━━━\u001b[0m\u001b[37m\u001b[0m \u001b[1m61s\u001b[0m 16ms/step - accuracy: 0.9408 - loss: 0.2020 - val_accuracy: 0.9126 - val_loss: 0.3737 - learning_rate: 0.0010\n",
      "Epoch 13/20\n",
      "\u001b[1m3775/3775\u001b[0m \u001b[32m━━━━━━━━━━━━━━━━━━━━\u001b[0m\u001b[37m\u001b[0m \u001b[1m62s\u001b[0m 16ms/step - accuracy: 0.9455 - loss: 0.1911 - val_accuracy: 0.9627 - val_loss: 0.1362 - learning_rate: 0.0010\n",
      "Epoch 14/20\n",
      "\u001b[1m3775/3775\u001b[0m \u001b[32m━━━━━━━━━━━━━━━━━━━━\u001b[0m\u001b[37m\u001b[0m \u001b[1m61s\u001b[0m 16ms/step - accuracy: 0.9481 - loss: 0.1812 - val_accuracy: 0.9606 - val_loss: 0.1427 - learning_rate: 0.0010\n",
      "Epoch 15/20\n",
      "\u001b[1m3775/3775\u001b[0m \u001b[32m━━━━━━━━━━━━━━━━━━━━\u001b[0m\u001b[37m\u001b[0m \u001b[1m61s\u001b[0m 16ms/step - accuracy: 0.9519 - loss: 0.1662 - val_accuracy: 0.9547 - val_loss: 0.1688 - learning_rate: 0.0010\n",
      "Epoch 16/20\n",
      "\u001b[1m3775/3775\u001b[0m \u001b[32m━━━━━━━━━━━━━━━━━━━━\u001b[0m\u001b[37m\u001b[0m \u001b[1m61s\u001b[0m 16ms/step - accuracy: 0.9532 - loss: 0.1588 - val_accuracy: 0.9597 - val_loss: 0.1467 - learning_rate: 0.0010\n",
      "Epoch 17/20\n",
      "\u001b[1m3775/3775\u001b[0m \u001b[32m━━━━━━━━━━━━━━━━━━━━\u001b[0m\u001b[37m\u001b[0m \u001b[1m61s\u001b[0m 16ms/step - accuracy: 0.9625 - loss: 0.1287 - val_accuracy: 0.9665 - val_loss: 0.1215 - learning_rate: 5.0000e-04\n",
      "Epoch 18/20\n",
      "\u001b[1m3775/3775\u001b[0m \u001b[32m━━━━━━━━━━━━━━━━━━━━\u001b[0m\u001b[37m\u001b[0m \u001b[1m61s\u001b[0m 16ms/step - accuracy: 0.9682 - loss: 0.1103 - val_accuracy: 0.9661 - val_loss: 0.1292 - learning_rate: 5.0000e-04\n",
      "Epoch 19/20\n",
      "\u001b[1m3775/3775\u001b[0m \u001b[32m━━━━━━━━━━━━━━━━━━━━\u001b[0m\u001b[37m\u001b[0m \u001b[1m62s\u001b[0m 16ms/step - accuracy: 0.9708 - loss: 0.1005 - val_accuracy: 0.9715 - val_loss: 0.1048 - learning_rate: 5.0000e-04\n",
      "Epoch 20/20\n",
      "\u001b[1m3775/3775\u001b[0m \u001b[32m━━━━━━━━━━━━━━━━━━━━\u001b[0m\u001b[37m\u001b[0m \u001b[1m62s\u001b[0m 16ms/step - accuracy: 0.9710 - loss: 0.0972 - val_accuracy: 0.9721 - val_loss: 0.1008 - learning_rate: 5.0000e-04\n"
     ]
    }
   ],
   "source": [
    "# Ustawienie ziarna losowości dla powtarzalnych wyników\n",
    "np.random.seed(11)\n",
    "tf.random.set_seed(11)\n",
    "np.random.seed(11)\n",
    "\n",
    "# Inicjalizacja modelu\n",
    "model = models.Sequential()\n",
    "\n",
    "\n",
    "model.add(layers.Input(shape=(32, 64, 1)))\n",
    "\n",
    "\n",
    "model.add(layers.Conv2D(16, (3, 3), activation='relu', padding='same'))\n",
    "model.add(layers.BatchNormalization())\n",
    "\n",
    "\n",
    "model.add(layers.Conv2D(32, (3, 3), activation='relu', padding='same'))\n",
    "model.add(layers.BatchNormalization())\n",
    "model.add(layers.Dropout(0.25))\n",
    "\n",
    "\n",
    "model.add(layers.Conv2D(64, (3, 3), activation='relu', padding='same'))\n",
    "model.add(layers.BatchNormalization())\n",
    "model.add(layers.Dropout(0.25))\n",
    "\n",
    "\n",
    "model.add(layers.Conv2D(128, (3, 3), activation='relu', padding='same'))\n",
    "model.add(layers.BatchNormalization())\n",
    "model.add(layers.AveragePooling2D((2, 2)))\n",
    "model.add(layers.Dropout(0.25))\n",
    "\n",
    "\n",
    "model.add(layers.Conv2D(256, (3, 3), activation='relu', padding='same'))\n",
    "model.add(layers.BatchNormalization())\n",
    "model.add(layers.AveragePooling2D((2, 2)))\n",
    "model.add(layers.Dropout(0.25))\n",
    "\n",
    "\n",
    "model.add(layers.Conv2D(512, (3, 3), activation='relu', padding='same'))\n",
    "model.add(layers.BatchNormalization())\n",
    "model.add(layers.AveragePooling2D((2, 2)))\n",
    "model.add(layers.Dropout(0.5))\n",
    "\n",
    "\n",
    "model.add(layers.Flatten())\n",
    "\n",
    "\n",
    "model.add(layers.Dense(1024, activation='relu'))\n",
    "model.add(layers.BatchNormalization())\n",
    "model.add(layers.Dropout(0.5))\n",
    "\n",
    "\n",
    "model.add(layers.Dense(512, activation='relu'))\n",
    "model.add(layers.BatchNormalization())\n",
    "model.add(layers.Dropout(0.25))\n",
    "\n",
    "\n",
    "model.add(layers.Dense(256, activation='relu'))\n",
    "model.add(layers.BatchNormalization())\n",
    "model.add(layers.Dropout(0.25))\n",
    "\n",
    "# Warstwa bottleneck\n",
    "model.add(layers.Dense(128, activation='linear', name = 'bottleneck'))\n",
    "\n",
    "\n",
    "model.add(layers.Dense(100, activation='softmax'))  \n",
    "\n",
    "\n",
    "model.compile(optimizer='adam',\n",
    "              loss='categorical_crossentropy',\n",
    "              metrics=['accuracy'])\n",
    "\n",
    "\n",
    "model.summary()\n",
    "\n",
    "\n",
    "reduce_lr = ReduceLROnPlateau(monitor='val_loss', factor=0.5, patience=3, min_lr=1e-8)\n",
    "early_stopping = EarlyStopping(monitor='val_loss', patience=10, restore_best_weights=True)\n",
    "\n",
    "\n",
    "history = model.fit(\n",
    "    X_train,    \n",
    "    y_train,    \n",
    "    epochs=20,  \n",
    "    batch_size=32, \n",
    "    verbose = 1,\n",
    "    validation_data=(X_valid, y_valid),  \n",
    "    callbacks=[reduce_lr, early_stopping]  \n",
    ")"
   ]
  },
  {
   "cell_type": "code",
   "execution_count": 14,
   "metadata": {
    "execution": {
     "iopub.execute_input": "2024-11-13T22:15:09.942622Z",
     "iopub.status.busy": "2024-11-13T22:15:09.941591Z",
     "iopub.status.idle": "2024-11-13T22:15:10.480208Z",
     "shell.execute_reply": "2024-11-13T22:15:10.479377Z",
     "shell.execute_reply.started": "2024-11-13T22:15:09.942571Z"
    },
    "trusted": true
   },
   "outputs": [],
   "source": [
    "model.save(\"model.h5\")"
   ]
  },
  {
   "cell_type": "markdown",
   "metadata": {},
   "source": [
    "# Model uczył się tylko przez 20 epok ponieważ po dopasowaniu parametrów zapomniałem puscić go na większej liczbie :("
   ]
  }
 ],
 "metadata": {
  "kaggle": {
   "accelerator": "none",
   "dataSources": [
    {
     "datasetId": 5923926,
     "sourceId": 9689961,
     "sourceType": "datasetVersion"
    },
    {
     "datasetId": 5924016,
     "sourceId": 9690086,
     "sourceType": "datasetVersion"
    },
    {
     "datasetId": 6070260,
     "sourceId": 9887913,
     "sourceType": "datasetVersion"
    },
    {
     "isSourceIdPinned": true,
     "modelId": 163820,
     "modelInstanceId": 141198,
     "sourceId": 165940,
     "sourceType": "modelInstanceVersion"
    }
   ],
   "dockerImageVersionId": 30786,
   "isGpuEnabled": false,
   "isInternetEnabled": true,
   "language": "python",
   "sourceType": "notebook"
  },
  "kernelspec": {
   "display_name": "base",
   "language": "python",
   "name": "python3"
  },
  "language_info": {
   "codemirror_mode": {
    "name": "ipython",
    "version": 3
   },
   "file_extension": ".py",
   "mimetype": "text/x-python",
   "name": "python",
   "nbconvert_exporter": "python",
   "pygments_lexer": "ipython3",
   "version": "3.11.7"
  }
 },
 "nbformat": 4,
 "nbformat_minor": 4
}
